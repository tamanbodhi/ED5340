{
 "cells": [
  {
   "cell_type": "markdown",
   "id": "df9cebe5",
   "metadata": {},
   "source": [
    "1.Write a program (WAP) to implement the following operations on a collection of library books:\n",
    "\n",
    "(a) Construct a catalog of books, with each book having an author's name, book title, ISBN number, publication year, and number of pages.\n",
    "\n",
    "(b) Add a new book to the catalog, ensuring that the books are kept in ascending order based on the publication year.\n",
    "\n",
    "(c) Locate a book by its ISBN number and delete the book's entry from the catalog.\n",
    "\n",
    "(d) Insert a new book entry at the end of the catalog using the provided book information.\n",
    "\n",
    "(e) Identify and remove any duplicate entries in the catalog, preserving only one copy of each book based on its ISBN number.\n",
    "\n",
    "(f) Reorganize the entire catalog so that the books are sorted in descending order by the number of pages."
   ]
  },
  {
   "cell_type": "code",
   "execution_count": 111,
   "id": "85f2ea5b",
   "metadata": {},
   "outputs": [
    {
     "name": "stdout",
     "output_type": "stream",
     "text": [
      "[['Hitler', 'Mein Kampf', 1002, 1945, 200], ['Khalid Hosseni', 'Thousand splendid suns', 1001, 2000, 300], ['Mary Brown', 'Introduction to Data Science', 1003, 2021, 250]]\n",
      "enter isbn to remove1001\n",
      "item found will be removed\n",
      "[['Hitler', 'Mein Kampf', 1002, 1945, 200], ['Mary Brown', 'Introduction to Data Science', 1003, 2021, 250]]\n",
      "[['Hitler', 'Mein Kampf', 1002, 1945, 200], ['Mary Brown', 'Introduction to Data Science', 1003, 2021, 250], ['Emily Green', 'Advanced Python Programming', 1004, 2022, 320], ['Emily Green', 'Advanced Python Programming', 1004, 2022, 320]]\n",
      "[['Hitler', 'Mein Kampf', 1002, 1945, 200], ['Mary Brown', 'Introduction to Data Science', 1003, 2021, 250], ['Emily Green', 'Advanced Python Programming', 1004, 2022, 320]]\n",
      "[['Emily Green', 'Advanced Python Programming', 1004, 2022, 320], ['Mary Brown', 'Introduction to Data Science', 1003, 2021, 250], ['Hitler', 'Mein Kampf', 1002, 1945, 200]]\n"
     ]
    }
   ],
   "source": [
    "\n",
    "catalog = [\n",
    "    ['Khalid Hosseni', 'Thousand splendid suns', 1001, 2000, 300],\n",
    "    ['Hitler', 'Mein Kampf', 1002, 1945, 200]\n",
    "]\n",
    "new_book = ['Mary Brown', 'Introduction to Data Science', 1003, 2021, 250]\n",
    "catalog.append(new_book)\n",
    "catalog.sort(key=lambda x: x[3])  \n",
    "print(catalog)\n",
    "r=int(input(\"enter isbn to remove\"))\n",
    "for book in catalog:\n",
    "        if book[2] == r:\n",
    "            print(\"item found will be removed\")\n",
    "            catalog.remove(book)\n",
    "print(catalog)\n",
    "new_book_at_end = ['Emily Green', 'Advanced Python Programming', 1004, 2022, 320]\n",
    "catalog.append(new_book_at_end)\n",
    "new_book_at_end = ['Emily Green', 'Advanced Python Programming', 1004, 2022, 320]\n",
    "catalog.append(new_book_at_end)\n",
    "print(catalog)\n",
    "\n",
    "seen_isbns = set()\n",
    "unique_books = []\n",
    "for book in catalog:\n",
    "        if book[2] not in seen_isbns:\n",
    "            unique_books.append(book)\n",
    "            seen_isbns.add(book[2])\n",
    "catalog.clear()\n",
    "catalog.extend(unique_books)\n",
    "print(catalog)\n",
    "catalog.sort(key=lambda x: x[4],reverse=True)  \n",
    "print(catalog)"
   ]
  },
  {
   "cell_type": "markdown",
   "id": "2fa78d29",
   "metadata": {},
   "source": [
    "2. Write a program using list comprehension\n",
    "\n",
    "a) To add the corresponding elements of two lists and print the new list.\n",
    "\n",
    "b) To perform element wise multiplication of two lists and print the new list.\n",
    "\n",
    "c) To create a list of the unique characters of a given string. \n",
    "\n",
    "Eg: input = “hello” , output = [‘h’, ‘e’, ‘l’, ‘o’]"
   ]
  },
  {
   "cell_type": "code",
   "execution_count": 90,
   "id": "3fa943d4",
   "metadata": {},
   "outputs": [
    {
     "name": "stdout",
     "output_type": "stream",
     "text": [
      "Sum : [7, 9, 11, 13, 15]\n",
      "[6, 14, 24, 36, 50]\n",
      "enter inputhello\n",
      "List of unique characters: ['e', 'o', 'l', 'h']\n"
     ]
    }
   ],
   "source": [
    "list1 = [1, 2, 3, 4, 5]\n",
    "list2 = [6, 7, 8, 9, 10]\n",
    "\n",
    "sum = [x + y for x, y in zip(list1, list2)]\n",
    "print(\"Sum :\", sum)\n",
    "product=[x*y for x,y in zip(list1,list2)]\n",
    "print(product)\n",
    "s1 = input(\"enter input\")\n",
    "new_unique = list(set(s1))\n",
    "print(\"List of unique characters:\", new_unique)\n",
    "\n"
   ]
  },
  {
   "cell_type": "code",
   "execution_count": 67,
   "id": "08ff1b01",
   "metadata": {},
   "outputs": [
    {
     "name": "stdout",
     "output_type": "stream",
     "text": [
      "Help on class list in module builtins:\n",
      "\n",
      "class list(object)\n",
      " |  list(iterable=(), /)\n",
      " |  \n",
      " |  Built-in mutable sequence.\n",
      " |  \n",
      " |  If no argument is given, the constructor creates a new empty list.\n",
      " |  The argument must be an iterable if specified.\n",
      " |  \n",
      " |  Methods defined here:\n",
      " |  \n",
      " |  __add__(self, value, /)\n",
      " |      Return self+value.\n",
      " |  \n",
      " |  __contains__(self, key, /)\n",
      " |      Return key in self.\n",
      " |  \n",
      " |  __delitem__(self, key, /)\n",
      " |      Delete self[key].\n",
      " |  \n",
      " |  __eq__(self, value, /)\n",
      " |      Return self==value.\n",
      " |  \n",
      " |  __ge__(self, value, /)\n",
      " |      Return self>=value.\n",
      " |  \n",
      " |  __getattribute__(self, name, /)\n",
      " |      Return getattr(self, name).\n",
      " |  \n",
      " |  __getitem__(...)\n",
      " |      x.__getitem__(y) <==> x[y]\n",
      " |  \n",
      " |  __gt__(self, value, /)\n",
      " |      Return self>value.\n",
      " |  \n",
      " |  __iadd__(self, value, /)\n",
      " |      Implement self+=value.\n",
      " |  \n",
      " |  __imul__(self, value, /)\n",
      " |      Implement self*=value.\n",
      " |  \n",
      " |  __init__(self, /, *args, **kwargs)\n",
      " |      Initialize self.  See help(type(self)) for accurate signature.\n",
      " |  \n",
      " |  __iter__(self, /)\n",
      " |      Implement iter(self).\n",
      " |  \n",
      " |  __le__(self, value, /)\n",
      " |      Return self<=value.\n",
      " |  \n",
      " |  __len__(self, /)\n",
      " |      Return len(self).\n",
      " |  \n",
      " |  __lt__(self, value, /)\n",
      " |      Return self<value.\n",
      " |  \n",
      " |  __mul__(self, value, /)\n",
      " |      Return self*value.\n",
      " |  \n",
      " |  __ne__(self, value, /)\n",
      " |      Return self!=value.\n",
      " |  \n",
      " |  __repr__(self, /)\n",
      " |      Return repr(self).\n",
      " |  \n",
      " |  __reversed__(self, /)\n",
      " |      Return a reverse iterator over the list.\n",
      " |  \n",
      " |  __rmul__(self, value, /)\n",
      " |      Return value*self.\n",
      " |  \n",
      " |  __setitem__(self, key, value, /)\n",
      " |      Set self[key] to value.\n",
      " |  \n",
      " |  __sizeof__(self, /)\n",
      " |      Return the size of the list in memory, in bytes.\n",
      " |  \n",
      " |  append(self, object, /)\n",
      " |      Append object to the end of the list.\n",
      " |  \n",
      " |  clear(self, /)\n",
      " |      Remove all items from list.\n",
      " |  \n",
      " |  copy(self, /)\n",
      " |      Return a shallow copy of the list.\n",
      " |  \n",
      " |  count(self, value, /)\n",
      " |      Return number of occurrences of value.\n",
      " |  \n",
      " |  extend(self, iterable, /)\n",
      " |      Extend list by appending elements from the iterable.\n",
      " |  \n",
      " |  index(self, value, start=0, stop=9223372036854775807, /)\n",
      " |      Return first index of value.\n",
      " |      \n",
      " |      Raises ValueError if the value is not present.\n",
      " |  \n",
      " |  insert(self, index, object, /)\n",
      " |      Insert object before index.\n",
      " |  \n",
      " |  pop(self, index=-1, /)\n",
      " |      Remove and return item at index (default last).\n",
      " |      \n",
      " |      Raises IndexError if list is empty or index is out of range.\n",
      " |  \n",
      " |  remove(self, value, /)\n",
      " |      Remove first occurrence of value.\n",
      " |      \n",
      " |      Raises ValueError if the value is not present.\n",
      " |  \n",
      " |  reverse(self, /)\n",
      " |      Reverse *IN PLACE*.\n",
      " |  \n",
      " |  sort(self, /, *, key=None, reverse=False)\n",
      " |      Sort the list in ascending order and return None.\n",
      " |      \n",
      " |      The sort is in-place (i.e. the list itself is modified) and stable (i.e. the\n",
      " |      order of two equal elements is maintained).\n",
      " |      \n",
      " |      If a key function is given, apply it once to each list item and sort them,\n",
      " |      ascending or descending, according to their function values.\n",
      " |      \n",
      " |      The reverse flag can be set to sort in descending order.\n",
      " |  \n",
      " |  ----------------------------------------------------------------------\n",
      " |  Class methods defined here:\n",
      " |  \n",
      " |  __class_getitem__(...) from builtins.type\n",
      " |      See PEP 585\n",
      " |  \n",
      " |  ----------------------------------------------------------------------\n",
      " |  Static methods defined here:\n",
      " |  \n",
      " |  __new__(*args, **kwargs) from builtins.type\n",
      " |      Create and return a new object.  See help(type) for accurate signature.\n",
      " |  \n",
      " |  ----------------------------------------------------------------------\n",
      " |  Data and other attributes defined here:\n",
      " |  \n",
      " |  __hash__ = None\n",
      "\n"
     ]
    }
   ],
   "source": [
    "help(list)"
   ]
  },
  {
   "cell_type": "markdown",
   "id": "db7e9ad4",
   "metadata": {},
   "source": [
    "3. Using the zip function, WAP\n",
    "\n",
    "a) To add the elements of 2 matrices (Define matrices as per your wish).\n",
    "\n",
    "b) To perform element wise multiplication on 2 matrices."
   ]
  },
  {
   "cell_type": "code",
   "execution_count": 117,
   "id": "1b526660",
   "metadata": {},
   "outputs": [
    {
     "name": "stdout",
     "output_type": "stream",
     "text": [
      "Result of adding two matrices element wise\n",
      "[[2, 6, 10], [5, 7, 10], [10, 10, 10]]\n",
      "Result of multiplying two matrices element wise\n",
      "[[1, 8, 21], [4, 10, 24], [21, 16, 9]]\n"
     ]
    }
   ],
   "source": [
    "mat1 = [[1, 2, 3],[4, 5, 6],[7, 8, 9]]\n",
    "\n",
    "mat2 = [[1, 4, 7],[1, 2, 4],[3, 2, 1]]\n",
    "sum_mat = [[x + y for x, y in zip(row1, row2)] for row1, row2 in zip(mat1, mat2)]\n",
    "print(\"Result of adding two matrices element wise\")\n",
    "\n",
    "print(sum_mat)\n",
    "prod_mat=[[x * y for x, y in zip(row1, row2)] for row1, row2 in zip(mat1, mat2)]\n",
    "print(\"Result of multiplying two matrices element wise\")\n",
    "print(prod_mat)\n"
   ]
  },
  {
   "cell_type": "markdown",
   "id": "ca6f5088",
   "metadata": {},
   "source": [
    "4. List of List : Given a square matrix represented as a list of lists, \n",
    "\n",
    "a) WAP to print the row sum, column sum and trace of the matrix \n",
    "\n",
    "b) WAP to print the transpose of the matrix.\n",
    "\n",
    "c) WAP to check whether the given matrix is symmetric or not.\n",
    "\n",
    "d) WAP to check whether the Identity matrix (I) is positive definite or not by using Quadratic form method (x^T*I*x > 0), where x is any non zero vector."
   ]
  },
  {
   "cell_type": "code",
   "execution_count": 98,
   "id": "1943ae82",
   "metadata": {},
   "outputs": [
    {
     "name": "stdout",
     "output_type": "stream",
     "text": [
      "sum of ith[1, 2, 3] row is\",6\n",
      "sum of ith[1, 1, 2] row is\",4\n",
      "sum of ith[2, 4, 5] row is\",11\n"
     ]
    }
   ],
   "source": [
    "mat1=[[1,2,3],[1,1,2],[2,4,5]]\n",
    "for i in mat1:\n",
    " sum=0\n",
    " for j in i:\n",
    "        \n",
    "        sum=sum+j\n",
    "        \n",
    "        \n",
    " print(f'sum of ith{i} row is\",{sum}')\n",
    " "
   ]
  },
  {
   "cell_type": "code",
   "execution_count": 120,
   "id": "6ea04cb2",
   "metadata": {},
   "outputs": [
    {
     "name": "stdout",
     "output_type": "stream",
     "text": [
      "sum of colukmns is [12, 15, 18]\n"
     ]
    }
   ],
   "source": [
    "num_rows = len(mat1)\n",
    "num_cols = len(mat[0]) if mat else 0\n",
    "\n",
    "  \n",
    "col_sums = [0] * num_cols\n",
    "\n",
    "\n",
    "for j in range(num_cols):\n",
    "       \n",
    "        for i in range(num_rows):\n",
    "            col_sums[j] += mat1[i][j]\n",
    "print(\"sum of colukmns is\",col_sums)\n"
   ]
  },
  {
   "cell_type": "code",
   "execution_count": 60,
   "id": "2cc2c98f",
   "metadata": {},
   "outputs": [
    {
     "name": "stdout",
     "output_type": "stream",
     "text": [
      "Trace of the matrix: 7\n"
     ]
    }
   ],
   "source": [
    " trace = 0\n",
    "    \n",
    "for i in range(len(mat1)):\n",
    "  trace+= mat1[i][i]\n",
    "    \n",
    "print(\"Trace of the matrix:\", trace)\n"
   ]
  },
  {
   "cell_type": "code",
   "execution_count": null,
   "id": "806eea05",
   "metadata": {},
   "outputs": [],
   "source": []
  },
  {
   "cell_type": "code",
   "execution_count": 121,
   "id": "d6a5f29f",
   "metadata": {},
   "outputs": [
    {
     "name": "stdout",
     "output_type": "stream",
     "text": [
      "[-1, -1, -1]\n",
      "7\n",
      "Matrix is positive definite\n"
     ]
    }
   ],
   "source": [
    "\n",
    "I=[[1,0,0],[0,1,0],[0,0,1]] \n",
    "num_rows = len(I)\n",
    "\n",
    "\n",
    "x = [-1] * num_rows \n",
    "print(x)\n",
    "for i in range(0,num_rows):\n",
    "    for j in range(0,num_rows):\n",
    "        xTAx+=x[i]*I[i][j]*x[j]\n",
    "print(xTAx)\n",
    "if xTAx > 0:\n",
    "       print( \"Matrix is positive definite\")\n",
    "else:\n",
    "        print(\"Matrix is not positive definite\")\n",
    "\n"
   ]
  },
  {
   "cell_type": "code",
   "execution_count": null,
   "id": "e2a85e7c",
   "metadata": {},
   "outputs": [],
   "source": [
    "  List of Lists : WAP to remove sub lists from a given list of lists that contain an element outside a given range.\n",
    "\n",
    "Example :\n",
    "\n",
    "Input : [[3], [1, 3, 2], [0, 1, 9, 3, 5, 7], [9, 10], [13, 14, 16, 17]]  Range: 1, 5\n",
    "\n",
    "Output : [[3], [1, 3, 2]]\n",
    "\n",
    "Explanation : If a sublist has a number that is other than 1, 2, 3, 4, 5, remove the sublist from the list of lists and print the remaining sublists as a lists of lists"
   ]
  },
  {
   "cell_type": "code",
   "execution_count": 116,
   "id": "19e50cf8",
   "metadata": {},
   "outputs": [
    {
     "name": "stdout",
     "output_type": "stream",
     "text": [
      "Output: [[3], [1, 3, 2], [2, 3, 3]]\n"
     ]
    }
   ],
   "source": [
    "\n",
    "input_list = [[3], [1, 3, 2], [0, 1, 9, 3, 5, 7], [9, 10], [13, 14, 16, 17],[2,3,3]]\n",
    "start = 1\n",
    "end = 5\n",
    "result = [sublist for sublist in input_list if all(start <= num <= end for num in sublist)]\n",
    "print(\"Output:\", result)\n"
   ]
  },
  {
   "cell_type": "code",
   "execution_count": null,
   "id": "c6ee133f",
   "metadata": {},
   "outputs": [],
   "source": []
  }
 ],
 "metadata": {
  "kernelspec": {
   "display_name": "Python 3 (ipykernel)",
   "language": "python",
   "name": "python3"
  },
  "language_info": {
   "codemirror_mode": {
    "name": "ipython",
    "version": 3
   },
   "file_extension": ".py",
   "mimetype": "text/x-python",
   "name": "python",
   "nbconvert_exporter": "python",
   "pygments_lexer": "ipython3",
   "version": "3.11.5"
  }
 },
 "nbformat": 4,
 "nbformat_minor": 5
}
