{
 "cells": [
  {
   "cell_type": "code",
   "execution_count": 1,
   "id": "319c51f8",
   "metadata": {},
   "outputs": [
    {
     "data": {
      "text/plain": [
       "'Tuple\\nhetro data\\nc brackets\\n'"
      ]
     },
     "execution_count": 1,
     "metadata": {},
     "output_type": "execute_result"
    }
   ],
   "source": [
    "'''Tuple\n",
    "hetro data\n",
    "c brackets\n",
    "single entry tuple is int or u have to give comma\n",
    "'''"
   ]
  },
  {
   "cell_type": "code",
   "execution_count": 2,
   "id": "34ae6d50",
   "metadata": {},
   "outputs": [
    {
     "name": "stdout",
     "output_type": "stream",
     "text": [
      "<class 'tuple'>\n"
     ]
    }
   ],
   "source": [
    "t1=()\n",
    "print(type(t1))"
   ]
  },
  {
   "cell_type": "code",
   "execution_count": 5,
   "id": "7ea40174",
   "metadata": {},
   "outputs": [
    {
     "name": "stdout",
     "output_type": "stream",
     "text": [
      "<class 'int'>\n"
     ]
    }
   ],
   "source": [
    "tup1=(10)\n",
    "tup2=(10,)\n",
    "print(type(tup1))\n",
    "print(type(tup2))# "
   ]
  },
  {
   "cell_type": "code",
   "execution_count": 8,
   "id": "d78487d6",
   "metadata": {},
   "outputs": [
    {
     "name": "stdout",
     "output_type": "stream",
     "text": [
      "(2, 3)\n"
     ]
    }
   ],
   "source": [
    "tup3=(1,2,3,4,5,6)\n",
    "tup4=tup3[1:3]\n",
    "print(tup4)"
   ]
  },
  {
   "cell_type": "code",
   "execution_count": 11,
   "id": "ff02f9ef",
   "metadata": {},
   "outputs": [
    {
     "name": "stdout",
     "output_type": "stream",
     "text": [
      "1\n",
      "2\n",
      "3\n",
      "4\n",
      "5\n",
      "6\n"
     ]
    }
   ],
   "source": [
    "for ele in tup3:\n",
    " print(ele)"
   ]
  },
  {
   "cell_type": "code",
   "execution_count": 39,
   "id": "559ae3a9",
   "metadata": {},
   "outputs": [
    {
     "name": "stdout",
     "output_type": "stream",
     "text": [
      "<class 'tuple'>\n",
      "<class 'generator'>\n",
      "(1, 4, 9, 16, 25, 36)\n",
      "<class 'list'>\n"
     ]
    }
   ],
   "source": [
    "\n",
    "'''my try..do not know what generator is\n",
    "later sir discussed . he says generator is like iterator which we discuss later\n",
    "instead we can use list compre fn and convert to tuple'''\n",
    "tup5=(ele**2 for ele in tup3)\n",
    "tup6=tuple(tup5)\n",
    "print(type(tup6))\n",
    "print(type(tup5))\n",
    "tup7=[ele**2 for ele in tup3]\n",
    "tup8=tuple(tup7)\n",
    "print(tup8)\n",
    "print(type(tup7))"
   ]
  },
  {
   "cell_type": "code",
   "execution_count": 19,
   "id": "0606e0e5",
   "metadata": {},
   "outputs": [
    {
     "name": "stdout",
     "output_type": "stream",
     "text": [
      "[1, 2, 5, 7]\n",
      "<class 'list'>\n"
     ]
    }
   ],
   "source": [
    "t=(5,2,7,1)\n",
    "ts=(sorted(t))# sorted returns list, since tuples r immutable\n",
    "print(ts)\n",
    "print(type(ts))"
   ]
  },
  {
   "cell_type": "code",
   "execution_count": 20,
   "id": "f3272c8d",
   "metadata": {},
   "outputs": [
    {
     "name": "stdout",
     "output_type": "stream",
     "text": [
      "Help on class tuple in module builtins:\n",
      "\n",
      "class tuple(object)\n",
      " |  tuple(iterable=(), /)\n",
      " |  \n",
      " |  Built-in immutable sequence.\n",
      " |  \n",
      " |  If no argument is given, the constructor returns an empty tuple.\n",
      " |  If iterable is specified the tuple is initialized from iterable's items.\n",
      " |  \n",
      " |  If the argument is a tuple, the return value is the same object.\n",
      " |  \n",
      " |  Built-in subclasses:\n",
      " |      asyncgen_hooks\n",
      " |      UnraisableHookArgs\n",
      " |  \n",
      " |  Methods defined here:\n",
      " |  \n",
      " |  __add__(self, value, /)\n",
      " |      Return self+value.\n",
      " |  \n",
      " |  __contains__(self, key, /)\n",
      " |      Return key in self.\n",
      " |  \n",
      " |  __eq__(self, value, /)\n",
      " |      Return self==value.\n",
      " |  \n",
      " |  __ge__(self, value, /)\n",
      " |      Return self>=value.\n",
      " |  \n",
      " |  __getattribute__(self, name, /)\n",
      " |      Return getattr(self, name).\n",
      " |  \n",
      " |  __getitem__(self, key, /)\n",
      " |      Return self[key].\n",
      " |  \n",
      " |  __getnewargs__(self, /)\n",
      " |  \n",
      " |  __gt__(self, value, /)\n",
      " |      Return self>value.\n",
      " |  \n",
      " |  __hash__(self, /)\n",
      " |      Return hash(self).\n",
      " |  \n",
      " |  __iter__(self, /)\n",
      " |      Implement iter(self).\n",
      " |  \n",
      " |  __le__(self, value, /)\n",
      " |      Return self<=value.\n",
      " |  \n",
      " |  __len__(self, /)\n",
      " |      Return len(self).\n",
      " |  \n",
      " |  __lt__(self, value, /)\n",
      " |      Return self<value.\n",
      " |  \n",
      " |  __mul__(self, value, /)\n",
      " |      Return self*value.\n",
      " |  \n",
      " |  __ne__(self, value, /)\n",
      " |      Return self!=value.\n",
      " |  \n",
      " |  __repr__(self, /)\n",
      " |      Return repr(self).\n",
      " |  \n",
      " |  __rmul__(self, value, /)\n",
      " |      Return value*self.\n",
      " |  \n",
      " |  count(self, value, /)\n",
      " |      Return number of occurrences of value.\n",
      " |  \n",
      " |  index(self, value, start=0, stop=9223372036854775807, /)\n",
      " |      Return first index of value.\n",
      " |      \n",
      " |      Raises ValueError if the value is not present.\n",
      " |  \n",
      " |  ----------------------------------------------------------------------\n",
      " |  Class methods defined here:\n",
      " |  \n",
      " |  __class_getitem__(...) from builtins.type\n",
      " |      See PEP 585\n",
      " |  \n",
      " |  ----------------------------------------------------------------------\n",
      " |  Static methods defined here:\n",
      " |  \n",
      " |  __new__(*args, **kwargs) from builtins.type\n",
      " |      Create and return a new object.  See help(type) for accurate signature.\n",
      "\n"
     ]
    }
   ],
   "source": [
    "help(tuple)"
   ]
  },
  {
   "cell_type": "code",
   "execution_count": 26,
   "id": "cc995e8b",
   "metadata": {},
   "outputs": [
    {
     "name": "stdout",
     "output_type": "stream",
     "text": [
      "1\n"
     ]
    }
   ],
   "source": [
    "p=t.count(2)\n",
    "print(p)"
   ]
  },
  {
   "cell_type": "code",
   "execution_count": 29,
   "id": "c76d86eb",
   "metadata": {},
   "outputs": [
    {
     "ename": "NameError",
     "evalue": "name 'add' is not defined",
     "output_type": "error",
     "traceback": [
      "\u001b[1;31m---------------------------------------------------------------------------\u001b[0m",
      "\u001b[1;31mNameError\u001b[0m                                 Traceback (most recent call last)",
      "Cell \u001b[1;32mIn[29], line 1\u001b[0m\n\u001b[1;32m----> 1\u001b[0m ta\u001b[38;5;241m=\u001b[39madd(t,\u001b[38;5;241m9\u001b[39m)\n",
      "\u001b[1;31mNameError\u001b[0m: name 'add' is not defined"
     ]
    }
   ],
   "source": [
    "ta=add(t,9)"
   ]
  },
  {
   "cell_type": "code",
   "execution_count": 35,
   "id": "11e9f70e",
   "metadata": {},
   "outputs": [
    {
     "name": "stdout",
     "output_type": "stream",
     "text": [
      "falde\n"
     ]
    }
   ],
   "source": [
    "'''tuple comparion csn be done using the relational operator ==='''\n",
    "ta=(1,2,3)\n",
    "tb=(2,3,1)\n",
    "tc=(1,2,3)\n",
    "\n",
    "if ta>=tb:\n",
    "    print(\"true\")\n",
    "else:\n",
    "    print(\"falde\")"
   ]
  },
  {
   "cell_type": "markdown",
   "id": "0b1e0f21",
   "metadata": {},
   "source": [
    "Hw: Find out func that r available in list but not in tuple and write reason(r: mostly coz immutable)\n",
    "    "
   ]
  },
  {
   "cell_type": "code",
   "execution_count": 51,
   "id": "c26a8841",
   "metadata": {},
   "outputs": [
    {
     "name": "stdout",
     "output_type": "stream",
     "text": [
      "((1, 2, 3), (4, 5, 6))\n",
      "(1, 2, 3) (4, 5, 6)\n",
      "b\n",
      "1 2 3\n"
     ]
    }
   ],
   "source": [
    "'''tuple unpacking'''\n",
    "t=((1,2,3),(4,5,6))\n",
    "tb=('a','b','c',t)\n",
    "print(t)\n",
    "print(*t)\n",
    "print(*tb[1])\n",
    "print(*tb[3][0])\n"
   ]
  },
  {
   "cell_type": "code",
   "execution_count": 52,
   "id": "4d53d7c4",
   "metadata": {},
   "outputs": [
    {
     "name": "stdout",
     "output_type": "stream",
     "text": [
      "Ram,male\n",
      "Raja,male\n",
      "Geetha,female\n",
      "Remys,female\n"
     ]
    }
   ],
   "source": [
    "'''Grouping tuples'''\n",
    "names=('Ram','Raja','Geetha','Remys')\n",
    "gender=('male','male','female','female')\n",
    "'''u want group as ('ram,male'),(raja,male)'''\n",
    "for i in range(4):\n",
    "    new=names[i]+','+gender[i]\n",
    "    print(new)\n",
    "    \n",
    "    "
   ]
  },
  {
   "cell_type": "code",
   "execution_count": 53,
   "id": "51f16ac5",
   "metadata": {},
   "outputs": [
    {
     "name": "stdout",
     "output_type": "stream",
     "text": [
      "('Ram', 'male') ('Raja', 'male') ('Geetha', 'female') ('Remys', 'female')\n"
     ]
    }
   ],
   "source": [
    "'''zip function\n",
    "Understnad difference in both uses'''\n",
    "ite = zip(names,gender)\n",
    "print(*ite)\n"
   ]
  },
  {
   "cell_type": "code",
   "execution_count": 54,
   "id": "48519e93",
   "metadata": {},
   "outputs": [
    {
     "name": "stdout",
     "output_type": "stream",
     "text": [
      "Ram male\n",
      "Raja male\n",
      "Geetha female\n",
      "Remys female\n"
     ]
    }
   ],
   "source": [
    "for ite in zip(names,gender):\n",
    "    print(*ite) "
   ]
  },
  {
   "cell_type": "code",
   "execution_count": 59,
   "id": "3e6dcc93",
   "metadata": {},
   "outputs": [
    {
     "name": "stdout",
     "output_type": "stream",
     "text": [
      "('apple', 'cabbage', 10) ('orange', 'carrot', 20) ('grape', 'beetroot', 30) ('guava', 'radish', 40)\n",
      "apple cabbage 10\n",
      "orange carrot 20\n",
      "grape beetroot 30\n",
      "guava radish 40\n"
     ]
    }
   ],
   "source": [
    "fruits=('apple','orange','grape','guava')\n",
    "veg=('cabbage','carrot','beetroot','radish')\n",
    "cal=(10,20,30,40)\n",
    "ite=zip(fruits,veg,cal)\n",
    "print(*ite)\n",
    "for ite1 in zip(fruits,veg,cal):\n",
    "    print(*ite1)"
   ]
  },
  {
   "cell_type": "code",
   "execution_count": null,
   "id": "834d04b1",
   "metadata": {},
   "outputs": [],
   "source": []
  }
 ],
 "metadata": {
  "kernelspec": {
   "display_name": "Python 3 (ipykernel)",
   "language": "python",
   "name": "python3"
  },
  "language_info": {
   "codemirror_mode": {
    "name": "ipython",
    "version": 3
   },
   "file_extension": ".py",
   "mimetype": "text/x-python",
   "name": "python",
   "nbconvert_exporter": "python",
   "pygments_lexer": "ipython3",
   "version": "3.11.5"
  }
 },
 "nbformat": 4,
 "nbformat_minor": 5
}
