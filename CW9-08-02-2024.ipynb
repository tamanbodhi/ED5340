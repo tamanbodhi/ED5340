{
 "cells": [
  {
   "cell_type": "markdown",
   "id": "53c662c9",
   "metadata": {},
   "source": [
    "# '''set continuation'''\n",
    "a+=b is assignment/arithmetic expression or what name"
   ]
  },
  {
   "cell_type": "code",
   "execution_count": 5,
   "id": "139005c7",
   "metadata": {},
   "outputs": [
    {
     "name": "stdout",
     "output_type": "stream",
     "text": [
      "{1, 2, 4, 5, 6}\n",
      "set()\n",
      "set()\n"
     ]
    }
   ],
   "source": [
    "A={1,2,3,4}\n",
    "B={4,5,6}\n",
    "C={1,2}\n",
    "C|=B\n",
    "print(C)\n",
    "A&=B\n",
    "A-=B\n",
    "A\n",
    "print(A)\n",
    "A^B # symmetric diff\n",
    "print(A)"
   ]
  },
  {
   "cell_type": "markdown",
   "id": "59c7fca2",
   "metadata": {},
   "source": [
    "# Dictionary\n",
    "key - value pair\n",
    "indexing is done via key"
   ]
  },
  {
   "cell_type": "code",
   "execution_count": 17,
   "id": "4ebc6e22",
   "metadata": {},
   "outputs": [
    {
     "name": "stdout",
     "output_type": "stream",
     "text": [
      "{10: 100, 20: 200, 'ED1': 'Ramanathan', 'CS1': 'NSN'}\n",
      "Ramanathan\n",
      "10 100\n",
      "20 200\n",
      "ED1 Ramanathan\n",
      "CS1 NSN\n",
      "10\n",
      "20\n",
      "ED1\n",
      "CS1\n",
      "100\n",
      "200\n",
      "Ramanathan\n",
      "NSN\n",
      "10\n",
      "20\n",
      "ED1\n",
      "CS1\n"
     ]
    }
   ],
   "source": [
    "Dict={}\n",
    "Dict={10:100,20:200,'ED1':'Ramanathan','CS1':'Mitesh','CS1':'NSN'} # keys have to be unique. SO when key CS is repeated it got replaced with the new value\n",
    "print(Dict)\n",
    "print(Dict['ED1']) # access jusing key as index\n",
    "for k,v in Dict.items(): # using iterator \n",
    "    print(k,v) # u dont have to explicitly write Dict because it is a member fn\n",
    "for k in Dict.keys():\n",
    "    print(k)\n",
    "for k in Dict.keys():\n",
    "    print(Dict[k])\n",
    "for k in Dict:\n",
    "    print(k)"
   ]
  },
  {
   "cell_type": "code",
   "execution_count": 18,
   "id": "d433b2e8",
   "metadata": {},
   "outputs": [
    {
     "data": {
      "text/plain": [
       "'Given key u can get vali=ue, given value can u get key'"
      ]
     },
     "execution_count": 18,
     "metadata": {},
     "output_type": "execute_result"
    }
   ],
   "source": [
    "'''Given key u can get vali=ue, given value can u get key'''"
   ]
  },
  {
   "cell_type": "code",
   "execution_count": 55,
   "id": "a3891cc2",
   "metadata": {},
   "outputs": [
    {
     "name": "stdout",
     "output_type": "stream",
     "text": [
      "<class 'dict'>\n",
      "1 bincy\n",
      "2 sincy\n",
      "3 abhi\n"
     ]
    }
   ],
   "source": [
    "Dict2 = {'1': 'bincy','3':'abhi','2':'sincy'}\n",
    "sortd=dict(sorted(Dict2.items()))\n",
    "print(type(sortd))\n",
    "for k,v in sortd.items(): # using iterator \n",
    "    print(k,v) # u dont have to explicitly write Dict because it is a member fn"
   ]
  },
  {
   "cell_type": "markdown",
   "id": "a718f7d0",
   "metadata": {},
   "source": [
    "# Use lambda function  to sort values"
   ]
  },
  {
   "cell_type": "code",
   "execution_count": 27,
   "id": "7a2ed126",
   "metadata": {},
   "outputs": [
    {
     "name": "stdout",
     "output_type": "stream",
     "text": [
      "Help on dict object:\n",
      "\n",
      "class dict(object)\n",
      " |  dict() -> new empty dictionary\n",
      " |  dict(mapping) -> new dictionary initialized from a mapping object's\n",
      " |      (key, value) pairs\n",
      " |  dict(iterable) -> new dictionary initialized as if via:\n",
      " |      d = {}\n",
      " |      for k, v in iterable:\n",
      " |          d[k] = v\n",
      " |  dict(**kwargs) -> new dictionary initialized with the name=value pairs\n",
      " |      in the keyword argument list.  For example:  dict(one=1, two=2)\n",
      " |  \n",
      " |  Built-in subclasses:\n",
      " |      StgDict\n",
      " |  \n",
      " |  Methods defined here:\n",
      " |  \n",
      " |  __contains__(self, key, /)\n",
      " |      True if the dictionary has the specified key, else False.\n",
      " |  \n",
      " |  __delitem__(self, key, /)\n",
      " |      Delete self[key].\n",
      " |  \n",
      " |  __eq__(self, value, /)\n",
      " |      Return self==value.\n",
      " |  \n",
      " |  __ge__(self, value, /)\n",
      " |      Return self>=value.\n",
      " |  \n",
      " |  __getattribute__(self, name, /)\n",
      " |      Return getattr(self, name).\n",
      " |  \n",
      " |  __getitem__(...)\n",
      " |      x.__getitem__(y) <==> x[y]\n",
      " |  \n",
      " |  __gt__(self, value, /)\n",
      " |      Return self>value.\n",
      " |  \n",
      " |  __init__(self, /, *args, **kwargs)\n",
      " |      Initialize self.  See help(type(self)) for accurate signature.\n",
      " |  \n",
      " |  __ior__(self, value, /)\n",
      " |      Return self|=value.\n",
      " |  \n",
      " |  __iter__(self, /)\n",
      " |      Implement iter(self).\n",
      " |  \n",
      " |  __le__(self, value, /)\n",
      " |      Return self<=value.\n",
      " |  \n",
      " |  __len__(self, /)\n",
      " |      Return len(self).\n",
      " |  \n",
      " |  __lt__(self, value, /)\n",
      " |      Return self<value.\n",
      " |  \n",
      " |  __ne__(self, value, /)\n",
      " |      Return self!=value.\n",
      " |  \n",
      " |  __or__(self, value, /)\n",
      " |      Return self|value.\n",
      " |  \n",
      " |  __repr__(self, /)\n",
      " |      Return repr(self).\n",
      " |  \n",
      " |  __reversed__(self, /)\n",
      " |      Return a reverse iterator over the dict keys.\n",
      " |  \n",
      " |  __ror__(self, value, /)\n",
      " |      Return value|self.\n",
      " |  \n",
      " |  __setitem__(self, key, value, /)\n",
      " |      Set self[key] to value.\n",
      " |  \n",
      " |  __sizeof__(...)\n",
      " |      D.__sizeof__() -> size of D in memory, in bytes\n",
      " |  \n",
      " |  clear(...)\n",
      " |      D.clear() -> None.  Remove all items from D.\n",
      " |  \n",
      " |  copy(...)\n",
      " |      D.copy() -> a shallow copy of D\n",
      " |  \n",
      " |  get(self, key, default=None, /)\n",
      " |      Return the value for key if key is in the dictionary, else default.\n",
      " |  \n",
      " |  items(...)\n",
      " |      D.items() -> a set-like object providing a view on D's items\n",
      " |  \n",
      " |  keys(...)\n",
      " |      D.keys() -> a set-like object providing a view on D's keys\n",
      " |  \n",
      " |  pop(...)\n",
      " |      D.pop(k[,d]) -> v, remove specified key and return the corresponding value.\n",
      " |      \n",
      " |      If the key is not found, return the default if given; otherwise,\n",
      " |      raise a KeyError.\n",
      " |  \n",
      " |  popitem(self, /)\n",
      " |      Remove and return a (key, value) pair as a 2-tuple.\n",
      " |      \n",
      " |      Pairs are returned in LIFO (last-in, first-out) order.\n",
      " |      Raises KeyError if the dict is empty.\n",
      " |  \n",
      " |  setdefault(self, key, default=None, /)\n",
      " |      Insert key with a value of default if key is not in the dictionary.\n",
      " |      \n",
      " |      Return the value for key if key is in the dictionary, else default.\n",
      " |  \n",
      " |  update(...)\n",
      " |      D.update([E, ]**F) -> None.  Update D from dict/iterable E and F.\n",
      " |      If E is present and has a .keys() method, then does:  for k in E: D[k] = E[k]\n",
      " |      If E is present and lacks a .keys() method, then does:  for k, v in E: D[k] = v\n",
      " |      In either case, this is followed by: for k in F:  D[k] = F[k]\n",
      " |  \n",
      " |  values(...)\n",
      " |      D.values() -> an object providing a view on D's values\n",
      " |  \n",
      " |  ----------------------------------------------------------------------\n",
      " |  Class methods defined here:\n",
      " |  \n",
      " |  __class_getitem__(...) from builtins.type\n",
      " |      See PEP 585\n",
      " |  \n",
      " |  fromkeys(iterable, value=None, /) from builtins.type\n",
      " |      Create a new dictionary with keys from iterable and values set to value.\n",
      " |  \n",
      " |  ----------------------------------------------------------------------\n",
      " |  Static methods defined here:\n",
      " |  \n",
      " |  __new__(*args, **kwargs) from builtins.type\n",
      " |      Create and return a new object.  See help(type) for accurate signature.\n",
      " |  \n",
      " |  ----------------------------------------------------------------------\n",
      " |  Data and other attributes defined here:\n",
      " |  \n",
      " |  __hash__ = None\n",
      "\n"
     ]
    }
   ],
   "source": [
    "help(Dict)"
   ]
  },
  {
   "cell_type": "code",
   "execution_count": 42,
   "id": "ebbe7598",
   "metadata": {},
   "outputs": [
    {
     "name": "stdout",
     "output_type": "stream",
     "text": [
      "{1: 'a', 2: 'b'}\n",
      "2\n",
      "{1: 'a', 2: 'b'}\n",
      "3\n"
     ]
    }
   ],
   "source": [
    "Dict1={1:'a',2:'b'}\n",
    "print(Dict1)\n",
    "print(len(Dict1))\n",
    "max(Dict1)\n",
    "sorted_Dict1=dict(sorted(Dict1.items()))\n",
    "print(sorted_Dict1)\n",
    "print(sum(Dict1))"
   ]
  },
  {
   "cell_type": "markdown",
   "id": "78a9f5bc",
   "metadata": {},
   "source": [
    "# Hw   Define a dictionay of student names find max min. \n"
   ]
  },
  {
   "cell_type": "markdown",
   "id": "5f6bf326",
   "metadata": {},
   "source": [
    "CW: Define 3 dict and concatenate all of them in another dictinary. Clear contents of all of them. Check if dict is empty"
   ]
  },
  {
   "cell_type": "code",
   "execution_count": 51,
   "id": "03785126",
   "metadata": {},
   "outputs": [
    {
     "name": "stdout",
     "output_type": "stream",
     "text": [
      "{1: 'a', 2: 'b', 'name': 'bincy'}\n",
      "{1: 'a', 2: 'b', 'name': 'bincy', 3: 'd'}\n",
      "{}\n"
     ]
    }
   ],
   "source": [
    "D1={1:'a',2:'b'}\n",
    "D2={'name':'bincy'}\n",
    "d3={3:'d'   \n",
    "}\n",
    "D1.update(D2)\n",
    "print(D1)\n",
    "D1.update(d3)\n",
    "print(D1)\n",
    "D1.clear()\n",
    "print(D1)"
   ]
  },
  {
   "cell_type": "code",
   "execution_count": null,
   "id": "03b1a47e",
   "metadata": {},
   "outputs": [],
   "source": []
  }
 ],
 "metadata": {
  "kernelspec": {
   "display_name": "Python 3 (ipykernel)",
   "language": "python",
   "name": "python3"
  },
  "language_info": {
   "codemirror_mode": {
    "name": "ipython",
    "version": 3
   },
   "file_extension": ".py",
   "mimetype": "text/x-python",
   "name": "python",
   "nbconvert_exporter": "python",
   "pygments_lexer": "ipython3",
   "version": "3.11.5"
  }
 },
 "nbformat": 4,
 "nbformat_minor": 5
}
