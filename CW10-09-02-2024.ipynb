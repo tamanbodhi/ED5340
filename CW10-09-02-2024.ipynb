{
 "cells": [
  {
   "cell_type": "code",
   "execution_count": 5,
   "id": "93e4e2e3",
   "metadata": {},
   "outputs": [
    {
     "data": {
      "text/plain": [
       "'sets r mutable but they do not have the append and extend method because elements in sets have no specific order. Istead we can use the add method to add a single lement or update method to add any iterable'"
      ]
     },
     "execution_count": 5,
     "metadata": {},
     "output_type": "execute_result"
    }
   ],
   "source": [
    "'''sets r mutable but they do not have the append and extend method because elements in sets have no specific order. Istead we can use the add method to add a single lement or update method to add any iterable\n",
    "\n",
    "There is no set of sets .Y? '''"
   ]
  },
  {
   "cell_type": "code",
   "execution_count": 15,
   "id": "2caf9157",
   "metadata": {
    "scrolled": true
   },
   "outputs": [
    {
     "name": "stdout",
     "output_type": "stream",
     "text": [
      "3\n"
     ]
    }
   ],
   "source": [
    "studlist={'Anand':{'dob':'01/05/1988','roll':1}, 'Kamesh':{'dob':'02/05/1988','roll':2}, 'Ramesh':{'dob':'03/05/1988','roll':3}}\n",
    "print(studlist['Ramesh']['roll'])\n"
   ]
  },
  {
   "cell_type": "code",
   "execution_count": 9,
   "id": "3ac1c145",
   "metadata": {},
   "outputs": [
    {
     "data": {
      "text/plain": [
       "'How do u print access and change contents of dictionary'"
      ]
     },
     "execution_count": 9,
     "metadata": {},
     "output_type": "execute_result"
    }
   ],
   "source": [
    "'''How do u print access and change contents of dictionary'''"
   ]
  },
  {
   "cell_type": "code",
   "execution_count": 16,
   "id": "18117b47",
   "metadata": {},
   "outputs": [
    {
     "name": "stdout",
     "output_type": "stream",
     "text": [
      "{'1': 'abhi', '2': 'anu', '3': 'taman'}\n"
     ]
    }
   ],
   "source": [
    "dictA={'1':'abhi','2':'anu','3':'taman'}\n",
    "dictB={key:value for (key,value) in dictA.items()}\n",
    "print(dictB)\n"
   ]
  },
  {
   "cell_type": "code",
   "execution_count": null,
   "id": "c98ccbfb",
   "metadata": {},
   "outputs": [],
   "source": []
  }
 ],
 "metadata": {
  "kernelspec": {
   "display_name": "Python 3 (ipykernel)",
   "language": "python",
   "name": "python3"
  },
  "language_info": {
   "codemirror_mode": {
    "name": "ipython",
    "version": 3
   },
   "file_extension": ".py",
   "mimetype": "text/x-python",
   "name": "python",
   "nbconvert_exporter": "python",
   "pygments_lexer": "ipython3",
   "version": "3.11.5"
  }
 },
 "nbformat": 4,
 "nbformat_minor": 5
}
