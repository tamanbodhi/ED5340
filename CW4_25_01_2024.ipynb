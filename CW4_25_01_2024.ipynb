{
 "cells": [
  {
   "cell_type": "code",
   "execution_count": null,
   "id": "0a697d66",
   "metadata": {},
   "outputs": [],
   "source": [
    "import numpy as np\n"
   ]
  },
  {
   "cell_type": "code",
   "execution_count": null,
   "id": "e4d8383c",
   "metadata": {},
   "outputs": [],
   "source": [
    "'''conditional statements\n",
    "the relational expressionn is used in conditional statements\n",
    "'''"
   ]
  },
  {
   "cell_type": "code",
   "execution_count": 12,
   "id": "e7c49b9f",
   "metadata": {},
   "outputs": [
    {
     "name": "stdout",
     "output_type": "stream",
     "text": [
      "enter a ab c6 1 3\n",
      "largest is a\n"
     ]
    }
   ],
   "source": [
    "a,b,c=input(\"enter a ab c\").split()\n",
    "a=int(a)\n",
    "b=int(b)\n",
    "c=int(c)\n",
    "if a>b:\n",
    "    if a>c:\n",
    "        print(\"largest is a\" )\n",
    "    else:\n",
    "        print(\"largest is c\")\n",
    "else:\n",
    "    if(b>c):\n",
    "        print(\"largest is b\")\n",
    "    else:\n",
    "        print(\"largest is c\")\n",
    "    "
   ]
  },
  {
   "cell_type": "code",
   "execution_count": 5,
   "id": "9800a813",
   "metadata": {},
   "outputs": [
    {
     "name": "stdout",
     "output_type": "stream",
     "text": [
      "largest is 5\n"
     ]
    }
   ],
   "source": [
    "if a>b:\n",
    "    largest =a\n",
    "else:\n",
    "        largest=b\n",
    "if c>largest:\n",
    "    largest=c\n",
    "    \n",
    "print(\"largest is\",largest)\n",
    "        \n",
    "    "
   ]
  },
  {
   "cell_type": "code",
   "execution_count": 6,
   "id": "50cf7007",
   "metadata": {},
   "outputs": [
    {
     "data": {
      "text/plain": [
       "'Logical operator\\nhow does scanf work with different arguments.\\nhow is cin taking << when its a bit wise operator\\n'"
      ]
     },
     "execution_count": 6,
     "metadata": {},
     "output_type": "execute_result"
    }
   ],
   "source": [
    "'''Logical operator\n",
    "how does scanf work with different arguments.\n",
    "how is cin taking << when its a bit wise operator\n",
    "'''\n"
   ]
  },
  {
   "cell_type": "code",
   "execution_count": 16,
   "id": "21224f07",
   "metadata": {},
   "outputs": [
    {
     "name": "stdout",
     "output_type": "stream",
     "text": [
      "largest is a\n"
     ]
    }
   ],
   "source": [
    "if a>b and a>c:\n",
    "    print(\"largest is a\")\n",
    "if(c>b and c>a):\n",
    "    print(\"largest is c\")\n",
    "if b>a and b>c:\n",
    "    print(\"largest is b\")\n"
   ]
  },
  {
   "cell_type": "markdown",
   "id": "2f4bcedf",
   "metadata": {},
   "source": [
    "Any\n",
    "All\n",
    "if (not 25)\n",
    "if (not 0)"
   ]
  },
  {
   "cell_type": "markdown",
   "id": "62c1989d",
   "metadata": {},
   "source": [
    "while else constuct\n",
    "for loop \n",
    "difference between iterable (string,set,tuple) and iterator for loop\n",
    "difference between for and while---while requires only condition not iterator but for requires itersator"
   ]
  },
  {
   "cell_type": "code",
   "execution_count": null,
   "id": "e16cbcba",
   "metadata": {},
   "outputs": [],
   "source": [
    "for takes iterator while takes condition.\n",
    "Not like other languges \n",
    "Any non zero value is true\n",
    "\n",
    "    \n"
   ]
  },
  {
   "cell_type": "code",
   "execution_count": 1,
   "id": "eae513b9",
   "metadata": {},
   "outputs": [
    {
     "name": "stdout",
     "output_type": "stream",
     "text": [
      "1\n",
      "2\n",
      "3\n",
      "4\n",
      "5\n",
      "6\n",
      "7\n",
      "8\n",
      "9\n",
      "10\n"
     ]
    }
   ],
   "source": [
    "i=0\n",
    "while i<10:\n",
    "    i=i+1\n",
    "    \n",
    "    print(i)"
   ]
  },
  {
   "cell_type": "code",
   "execution_count": 2,
   "id": "9091ec39",
   "metadata": {},
   "outputs": [
    {
     "name": "stdout",
     "output_type": "stream",
     "text": [
      "R\n",
      "a\n",
      "m\n",
      "a\n",
      "n\n"
     ]
    }
   ],
   "source": [
    "str1=\"Raman\"\n",
    "for ele in str1:\n",
    "    print(ele)"
   ]
  },
  {
   "cell_type": "code",
   "execution_count": 3,
   "id": "87c6fc29",
   "metadata": {},
   "outputs": [
    {
     "ename": "NameError",
     "evalue": "name 'ele' is not defined",
     "output_type": "error",
     "traceback": [
      "\u001b[1;31m---------------------------------------------------------------------------\u001b[0m",
      "\u001b[1;31mNameError\u001b[0m                                 Traceback (most recent call last)",
      "Cell \u001b[1;32mIn[3], line 1\u001b[0m\n\u001b[1;32m----> 1\u001b[0m \u001b[38;5;28;01mwhile\u001b[39;00m ele \u001b[38;5;129;01min\u001b[39;00m str1:\n\u001b[0;32m      2\u001b[0m     \u001b[38;5;28mprint\u001b[39m(ele)\n",
      "\u001b[1;31mNameError\u001b[0m: name 'ele' is not defined"
     ]
    }
   ],
   "source": [
    "while ele in str1:\n",
    "    print(ele)"
   ]
  },
  {
   "cell_type": "markdown",
   "id": "2bd4728c",
   "metadata": {},
   "source": [
    "Range function:\n",
    "    range(10)---generates  0 upto 9\n",
    "    range(0,10,2)"
   ]
  },
  {
   "cell_type": "code",
   "execution_count": 4,
   "id": "427d45f1",
   "metadata": {},
   "outputs": [
    {
     "ename": "SyntaxError",
     "evalue": "invalid syntax (392689346.py, line 1)",
     "output_type": "error",
     "traceback": [
      "\u001b[1;36m  Cell \u001b[1;32mIn[4], line 1\u001b[1;36m\u001b[0m\n\u001b[1;33m    Hw: Break,continue,pass and use in program\u001b[0m\n\u001b[1;37m             ^\u001b[0m\n\u001b[1;31mSyntaxError\u001b[0m\u001b[1;31m:\u001b[0m invalid syntax\n"
     ]
    }
   ],
   "source": [
    "Hw: Break,continue,pass and use in program\n",
    "Hw2: print nos 1 to 10 on the smae line , breaking out of infinite loop\n",
    "Hw3: print all unique combination of 1 ,2 and 3\n",
    "    \n",
    "how to write conditional expression\n",
    "try largest of 3 numbers using conditional in single line\n"
   ]
  },
  {
   "cell_type": "code",
   "execution_count": 5,
   "id": "9a075c2b",
   "metadata": {},
   "outputs": [
    {
     "ename": "SyntaxError",
     "evalue": "invalid syntax (2369713624.py, line 1)",
     "output_type": "error",
     "traceback": [
      "\u001b[1;36m  Cell \u001b[1;32mIn[5], line 1\u001b[1;36m\u001b[0m\n\u001b[1;33m    a>b?b>c?largest=b:largest=c:a>c?largest=a:largest=c\u001b[0m\n\u001b[1;37m       ^\u001b[0m\n\u001b[1;31mSyntaxError\u001b[0m\u001b[1;31m:\u001b[0m invalid syntax\n"
     ]
    }
   ],
   "source": [
    " a>b?b>c?largest=b:largest=c:a>c?largest=a:largest=c\n",
    " print(largest)\n",
    "            "
   ]
  },
  {
   "cell_type": "markdown",
   "id": "d85edae3",
   "metadata": {},
   "source": [
    "The not keyword is a logical operator, and is used to reverse the result of the conditional statement:\n",
    "python considers everything tht is non zero as true\n"
   ]
  },
  {
   "cell_type": "code",
   "execution_count": 12,
   "id": "5c94e07e",
   "metadata": {},
   "outputs": [
    {
     "name": "stdout",
     "output_type": "stream",
     "text": [
      "a is negative\n"
     ]
    }
   ],
   "source": [
    "a = -33\n",
    "b = 200\n",
    "if a :\n",
    "  print(\"a is negative\")"
   ]
  },
  {
   "cell_type": "code",
   "execution_count": 13,
   "id": "e17d720c",
   "metadata": {},
   "outputs": [
    {
     "name": "stdout",
     "output_type": "stream",
     "text": [
      "a is smaller\n"
     ]
    }
   ],
   "source": [
    "a = 33\n",
    "b = 200\n",
    "if not a>b : # not reverses the result of the relational expression\n",
    "  print(\"a is smaller\")"
   ]
  },
  {
   "cell_type": "code",
   "execution_count": 15,
   "id": "168f8590",
   "metadata": {},
   "outputs": [
    {
     "name": "stdout",
     "output_type": "stream",
     "text": [
      "h\n",
      " \n",
      "h\n",
      "w\n",
      " \n",
      "r\n",
      " \n",
      "n\n",
      "d\n",
      " \n"
     ]
    }
   ],
   "source": [
    "vowels=set('aeiou')\n",
    "str1=\"hi how r end u\"\n",
    "for ele in str1:\n",
    "    if ele in vowels: # skiped vowels\n",
    "        continue\n",
    "    \n",
    "    print(ele)"
   ]
  },
  {
   "cell_type": "code",
   "execution_count": 16,
   "id": "c74fc2de",
   "metadata": {},
   "outputs": [
    {
     "name": "stdout",
     "output_type": "stream",
     "text": [
      "h\n"
     ]
    }
   ],
   "source": [
    "vowels=set('aeiou')\n",
    "str1=\"hi how r end u\"\n",
    "for ele in str1:\n",
    "    if ele in vowels:\n",
    "        break\n",
    "    \n",
    "    print(ele)"
   ]
  },
  {
   "cell_type": "code",
   "execution_count": 17,
   "id": "11b2ff62",
   "metadata": {},
   "outputs": [
    {
     "name": "stdout",
     "output_type": "stream",
     "text": [
      "h\n",
      "i\n",
      " \n",
      "h\n",
      "o\n",
      "w\n",
      " \n",
      "r\n",
      " \n",
      "e\n",
      "n\n",
      "d\n",
      " \n",
      "u\n"
     ]
    }
   ],
   "source": [
    "vowels=set('aeiou')\n",
    "str1=\"hi how r end u\"\n",
    "for ele in str1:\n",
    "    if ele in vowels:\n",
    "        pass # just skips lines\n",
    "    \n",
    "    print(ele)"
   ]
  },
  {
   "cell_type": "code",
   "execution_count": 2,
   "id": "971de526",
   "metadata": {},
   "outputs": [
    {
     "name": "stdout",
     "output_type": "stream",
     "text": [
      "12345678910"
     ]
    }
   ],
   "source": [
    "'''print nos 1 to 10 on the smae line , breaking out of infinite loop'''\n",
    "i=0\n",
    "while True:\n",
    "    i=i+1\n",
    "    if i>10:\n",
    "        break\n",
    "        \n",
    "    print(i, end=\"\")\n",
    "    "
   ]
  },
  {
   "cell_type": "code",
   "execution_count": null,
   "id": "cd8b0f43",
   "metadata": {},
   "outputs": [],
   "source": [
    "'''print all unique combination of 1 ,2 and 3'''\n",
    "from itertools import product\n",
    "numbers = [1, 2, 3]\n",
    "for r in range(1, len(numbers) + 1):\n",
    "    combinations = product(numbers, repeat=r)\n",
    "    for combo in combinations:\n",
    "        print(combo)\n"
   ]
  }
 ],
 "metadata": {
  "kernelspec": {
   "display_name": "Python 3 (ipykernel)",
   "language": "python",
   "name": "python3"
  },
  "language_info": {
   "codemirror_mode": {
    "name": "ipython",
    "version": 3
   },
   "file_extension": ".py",
   "mimetype": "text/x-python",
   "name": "python",
   "nbconvert_exporter": "python",
   "pygments_lexer": "ipython3",
   "version": "3.11.5"
  }
 },
 "nbformat": 4,
 "nbformat_minor": 5
}
