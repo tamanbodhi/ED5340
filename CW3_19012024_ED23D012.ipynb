{
 "cells": [
  {
   "cell_type": "code",
   "execution_count": 36,
   "id": "3301b0df",
   "metadata": {},
   "outputs": [
    {
     "name": "stdout",
     "output_type": "stream",
     "text": [
      "h\n"
     ]
    }
   ],
   "source": [
    "Str1=\"hello ,how, r, u\"\n",
    "print(Str1[-0])"
   ]
  },
  {
   "cell_type": "code",
   "execution_count": 10,
   "id": "85a5bd15",
   "metadata": {},
   "outputs": [
    {
     "name": "stdout",
     "output_type": "stream",
     "text": [
      "-1-1-1-1-1-1-1-1-1-1-1-1-1-1-1-1-1-1-1-1-1-1-1-1-1-1-1-1-1-1-1-1-1-1-1-1-1-1-1-1-1-1-1-1-1-1-1-1-1-1-1-1-1-1-1-1-1-1-1-1-1-1-1-1-1-1-1-1-1-1\n"
     ]
    }
   ],
   "source": [
    "print(\"-1\"*70)"
   ]
  },
  {
   "cell_type": "code",
   "execution_count": 11,
   "id": "7b5a0d55",
   "metadata": {},
   "outputs": [
    {
     "name": "stdout",
     "output_type": "stream",
     "text": [
      "True\n",
      "False\n"
     ]
    }
   ],
   "source": [
    "print('el' in 'Hello')\n",
    "print('Hello ' in 'Hello')"
   ]
  },
  {
   "cell_type": "code",
   "execution_count": 16,
   "id": "d3e48f89",
   "metadata": {},
   "outputs": [
    {
     "name": "stdout",
     "output_type": "stream",
     "text": [
      "RAMAN\n",
      "True\n"
     ]
    },
    {
     "ename": "AttributeError",
     "evalue": "'str' object has no attribute 'isalphanum'",
     "output_type": "error",
     "traceback": [
      "\u001b[1;31m---------------------------------------------------------------------------\u001b[0m",
      "\u001b[1;31mAttributeError\u001b[0m                            Traceback (most recent call last)",
      "Cell \u001b[1;32mIn[16], line 3\u001b[0m\n\u001b[0;32m      1\u001b[0m \u001b[38;5;28mprint\u001b[39m(Str1\u001b[38;5;241m.\u001b[39mupper())\n\u001b[0;32m      2\u001b[0m \u001b[38;5;28mprint\u001b[39m(Str1\u001b[38;5;241m.\u001b[39misalpha())\n\u001b[1;32m----> 3\u001b[0m \u001b[38;5;28mprint\u001b[39m(Str1\u001b[38;5;241m.\u001b[39misalphanum())\n",
      "\u001b[1;31mAttributeError\u001b[0m: 'str' object has no attribute 'isalphanum'"
     ]
    }
   ],
   "source": [
    "print(Str1.upper())\n",
    "print(Str1.isalpha())\n",
    "print(Str1.isalphanum())"
   ]
  },
  {
   "cell_type": "code",
   "execution_count": 17,
   "id": "067c2607",
   "metadata": {},
   "outputs": [
    {
     "ename": "NameError",
     "evalue": "name 'String' is not defined",
     "output_type": "error",
     "traceback": [
      "\u001b[1;31m---------------------------------------------------------------------------\u001b[0m",
      "\u001b[1;31mNameError\u001b[0m                                 Traceback (most recent call last)",
      "Cell \u001b[1;32mIn[17], line 1\u001b[0m\n\u001b[1;32m----> 1\u001b[0m help(String)\n",
      "\u001b[1;31mNameError\u001b[0m: name 'String' is not defined"
     ]
    }
   ],
   "source": [
    "\n"
   ]
  },
  {
   "cell_type": "code",
   "execution_count": 44,
   "id": "864430af",
   "metadata": {},
   "outputs": [
    {
     "name": "stdout",
     "output_type": "stream",
     "text": [
      "['hello ,how, r, u']\n"
     ]
    }
   ],
   "source": [
    "print(Str1.split(\"':'\"))#"
   ]
  },
  {
   "cell_type": "code",
   "execution_count": 25,
   "id": "d2ff88cd",
   "metadata": {},
   "outputs": [
    {
     "ename": "NameError",
     "evalue": "name 'split' is not defined",
     "output_type": "error",
     "traceback": [
      "\u001b[1;31m---------------------------------------------------------------------------\u001b[0m",
      "\u001b[1;31mNameError\u001b[0m                                 Traceback (most recent call last)",
      "Cell \u001b[1;32mIn[25], line 1\u001b[0m\n\u001b[1;32m----> 1\u001b[0m help(split)\n",
      "\u001b[1;31mNameError\u001b[0m: name 'split' is not defined"
     ]
    }
   ],
   "source": [
    "\n"
   ]
  },
  {
   "cell_type": "code",
   "execution_count": null,
   "id": "fb33afaf",
   "metadata": {},
   "outputs": [],
   "source": [
    "partition function check\n",
    "len,rstrip,partition,str,chr,ord,index etc\n",
    "write a pgm to split at the following \\,\\\\ ,blank space\n",
    "diff between split and partition funs\n"
   ]
  },
  {
   "cell_type": "code",
   "execution_count": 45,
   "id": "89455b8e",
   "metadata": {},
   "outputs": [
    {
     "name": "stdout",
     "output_type": "stream",
     "text": [
      "enter  first no:2\n",
      "enter  second no:3\n",
      "23\n"
     ]
    }
   ],
   "source": [
    "\"\"\"Console input and output\"\"\"\n",
    "a=input(\"enter  first no:\")\n",
    "b=input(\"enter  second no:\")\n",
    "c=a+b\n",
    "print(c)\n",
    "c=int()"
   ]
  },
  {
   "cell_type": "code",
   "execution_count": 46,
   "id": "d1d8309d",
   "metadata": {},
   "outputs": [
    {
     "name": "stdout",
     "output_type": "stream",
     "text": [
      "5\n"
     ]
    }
   ],
   "source": [
    "c=int(a)+int(b)\n",
    "print(c)"
   ]
  },
  {
   "cell_type": "code",
   "execution_count": 47,
   "id": "472a7513",
   "metadata": {},
   "outputs": [
    {
     "name": "stdout",
     "output_type": "stream",
     "text": [
      "<class 'str'>\n"
     ]
    }
   ],
   "source": [
    "print(type(a))"
   ]
  },
  {
   "cell_type": "markdown",
   "id": "bed7e214",
   "metadata": {},
   "source": [
    "Hw:\n",
    "    How to convert a string to an integer: ASCII concept I think"
   ]
  },
  {
   "cell_type": "code",
   "execution_count": 51,
   "id": "2142734e",
   "metadata": {},
   "outputs": [
    {
     "name": "stdout",
     "output_type": "stream",
     "text": [
      "enter a and b2:3\n"
     ]
    }
   ],
   "source": [
    "a,b=input(\"enter a and b\").split('')"
   ]
  },
  {
   "cell_type": "code",
   "execution_count": 49,
   "id": "c601e5d4",
   "metadata": {},
   "outputs": [
    {
     "name": "stdout",
     "output_type": "stream",
     "text": [
      "23\n"
     ]
    }
   ],
   "source": [
    "print(a+b)"
   ]
  },
  {
   "cell_type": "code",
   "execution_count": 52,
   "id": "067095ee",
   "metadata": {},
   "outputs": [
    {
     "name": "stdout",
     "output_type": "stream",
     "text": [
      "5\n"
     ]
    }
   ],
   "source": [
    "c=int(a)+int(b)\n",
    "print(c)\n"
   ]
  },
  {
   "cell_type": "code",
   "execution_count": 53,
   "id": "cc4fc0be",
   "metadata": {},
   "outputs": [
    {
     "name": "stdout",
     "output_type": "stream",
     "text": [
      "enter  a and b with : seperator23:10\n"
     ]
    }
   ],
   "source": [
    "a,b=input(\"enter  a and b with : seperator\").split(\":\")"
   ]
  },
  {
   "cell_type": "code",
   "execution_count": 54,
   "id": "8fb3d51e",
   "metadata": {},
   "outputs": [
    {
     "name": "stdout",
     "output_type": "stream",
     "text": [
      "2310\n"
     ]
    }
   ],
   "source": [
    "print(a+b)"
   ]
  },
  {
   "cell_type": "code",
   "execution_count": 55,
   "id": "72fe1446",
   "metadata": {},
   "outputs": [
    {
     "name": "stdout",
     "output_type": "stream",
     "text": [
      "enter nname dept semester cgpabincy ed 2 8.27\n",
      "name\t: department\t:semester\t:cgpa\t bincy ed 2 8.27\n"
     ]
    }
   ],
   "source": [
    "name,department,semester,cgpa=input(\"enter nname dept semester cgpa\").split()\n",
    "print(\"name\\t: department\\t:semester\\t:cgpa\\t\",name,department,semester,cgpa)"
   ]
  },
  {
   "cell_type": "code",
   "execution_count": 59,
   "id": "2494532c",
   "metadata": {},
   "outputs": [
    {
     "name": "stdout",
     "output_type": "stream",
     "text": [
      "enter nname dept semester cgpabincy ed 2 8.27\n",
      "name\t bincy\tdept\t ed\n"
     ]
    }
   ],
   "source": [
    "bio=input(\"enter nname dept semester cgpa\").split()\n",
    "print(\"name\\t\",bio[0]+\"\\tdept\\t\",bio[1])\n"
   ]
  },
  {
   "cell_type": "code",
   "execution_count": 63,
   "id": "c50c96be",
   "metadata": {},
   "outputs": [
    {
     "name": "stdout",
     "output_type": "stream",
     "text": [
      "enter nname dept semester cgpabincy ed 2 8.27\n",
      "name\t bincy\tdept\t ed\tsem\t 2\tcgpa\t 8.27\t"
     ]
    }
   ],
   "source": [
    "bio=input(\"enter nname dept semester cgpa\").split()\n",
    "print(\"name\\t\",bio[0],end=\"\\t\")\n",
    "print(\"dept\\t\",bio[1],end=\"\\t\")\n",
    "print(\"sem\\t\",bio[2],end=\"\\t\")\n",
    "print(\"cgpa\\t\",bio[3],end=\"\\t\")\n",
    "\n"
   ]
  },
  {
   "cell_type": "markdown",
   "id": "80181b84",
   "metadata": {},
   "source": [
    "\"\"\"Output statement\"\"\"\n",
    "What are the various escape seque..emply in the print statement"
   ]
  }
 ],
 "metadata": {
  "kernelspec": {
   "display_name": "Python 3 (ipykernel)",
   "language": "python",
   "name": "python3"
  },
  "language_info": {
   "codemirror_mode": {
    "name": "ipython",
    "version": 3
   },
   "file_extension": ".py",
   "mimetype": "text/x-python",
   "name": "python",
   "nbconvert_exporter": "python",
   "pygments_lexer": "ipython3",
   "version": "3.11.5"
  }
 },
 "nbformat": 4,
 "nbformat_minor": 5
}
