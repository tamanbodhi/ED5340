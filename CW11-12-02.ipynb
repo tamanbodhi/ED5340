{
 "cells": [
  {
   "cell_type": "markdown",
   "id": "5a0738c4",
   "metadata": {},
   "source": [
    " # Functions\n",
    "User defined functions\n",
    "function prototype'''\n",
    "function definition - formal arguments\n",
    "function call---actual arguments\n",
    "\n",
    "Can we return multiple values----yes\n",
    "positional arguments(order/type has to match) and keyword arguments(order need not match)"
   ]
  },
  {
   "cell_type": "code",
   "execution_count": 1,
   "id": "88e17c33",
   "metadata": {},
   "outputs": [],
   "source": [
    "def cal_sum(x,y):\n",
    "    s=x+y\n",
    "    return s"
   ]
  },
  {
   "cell_type": "code",
   "execution_count": 2,
   "id": "d9833cc5",
   "metadata": {},
   "outputs": [
    {
     "name": "stdout",
     "output_type": "stream",
     "text": [
      "15\n"
     ]
    }
   ],
   "source": [
    "a=5\n",
    "b=10\n",
    "sum=cal_sum(a,b)\n",
    "print(sum)"
   ]
  },
  {
   "cell_type": "code",
   "execution_count": 3,
   "id": "a74b27c2",
   "metadata": {},
   "outputs": [],
   "source": [
    "def cal(x,y):\n",
    "    s=x+y\n",
    "    d=x-y\n",
    "    return s,d # can return multiple values"
   ]
  },
  {
   "cell_type": "code",
   "execution_count": 7,
   "id": "4658790a",
   "metadata": {},
   "outputs": [
    {
     "name": "stdout",
     "output_type": "stream",
     "text": [
      "sum=15,difference=-5\n"
     ]
    }
   ],
   "source": [
    "sum,diff=cal(a,b)\n",
    "print(f'sum={sum},difference={diff}')"
   ]
  },
  {
   "cell_type": "code",
   "execution_count": 9,
   "id": "1469f1ad",
   "metadata": {},
   "outputs": [],
   "source": [
    "def pos_fun(i,f,s):\n",
    "    su1=i+f\n",
    "    st1=s.upper()\n",
    "    return su1,st1\n"
   ]
  },
  {
   "cell_type": "code",
   "execution_count": 11,
   "id": "3875ccfb",
   "metadata": {},
   "outputs": [
    {
     "name": "stdout",
     "output_type": "stream",
     "text": [
      "5.5 RAM\n"
     ]
    }
   ],
   "source": [
    "i1=2\n",
    "f1=3.5\n",
    "st1=\"ram\"\n",
    "out1,out2=pos_fun(i1,f1,st1)\n",
    "print(out1,out2)"
   ]
  },
  {
   "cell_type": "code",
   "execution_count": 12,
   "id": "81759a39",
   "metadata": {},
   "outputs": [
    {
     "ename": "TypeError",
     "evalue": "can only concatenate str (not \"int\") to str",
     "output_type": "error",
     "traceback": [
      "\u001b[1;31m---------------------------------------------------------------------------\u001b[0m",
      "\u001b[1;31mTypeError\u001b[0m                                 Traceback (most recent call last)",
      "Cell \u001b[1;32mIn[12], line 1\u001b[0m\n\u001b[1;32m----> 1\u001b[0m o1,o2\u001b[38;5;241m=\u001b[39mpos_fun(st1,i1,f1)\n",
      "Cell \u001b[1;32mIn[9], line 2\u001b[0m, in \u001b[0;36mpos_fun\u001b[1;34m(i, f, s)\u001b[0m\n\u001b[0;32m      1\u001b[0m \u001b[38;5;28;01mdef\u001b[39;00m \u001b[38;5;21mpos_fun\u001b[39m(i,f,s):\n\u001b[1;32m----> 2\u001b[0m     su1\u001b[38;5;241m=\u001b[39mi\u001b[38;5;241m+\u001b[39mf\n\u001b[0;32m      3\u001b[0m     st1\u001b[38;5;241m=\u001b[39ms\u001b[38;5;241m.\u001b[39mupper()\n\u001b[0;32m      4\u001b[0m     \u001b[38;5;28;01mreturn\u001b[39;00m su1,st1\n",
      "\u001b[1;31mTypeError\u001b[0m: can only concatenate str (not \"int\") to str"
     ]
    }
   ],
   "source": [
    "#o1,o2=pos_fun(st1,i1,f1) # type mismatch"
   ]
  },
  {
   "cell_type": "code",
   "execution_count": 14,
   "id": "898317d5",
   "metadata": {},
   "outputs": [
    {
     "name": "stdout",
     "output_type": "stream",
     "text": [
      "(5.5, 'RAM')\n"
     ]
    }
   ],
   "source": [
    "out_list=pos_fun(i1,f1,st1) # stored multiple values returned as tuple\n",
    "print(out_list)"
   ]
  },
  {
   "cell_type": "code",
   "execution_count": 20,
   "id": "c85acb9d",
   "metadata": {},
   "outputs": [
    {
     "name": "stdout",
     "output_type": "stream",
     "text": [
      "(40.3, 'RAM')\n"
     ]
    }
   ],
   "source": [
    "out_list=pos_fun(i=10,f=20.3,s='ram')\n",
    "out_list=pos_fun(s='ram',f=20.3,i=20)\n",
    "print(out_list)"
   ]
  },
  {
   "cell_type": "code",
   "execution_count": 30,
   "id": "9beddeac",
   "metadata": {},
   "outputs": [],
   "source": [
    "def pos_key(i,f,s,st):\n",
    "    sum=i+f\n",
    "    concat=s+st\n",
    "    return sum,concat\n",
    "    "
   ]
  },
  {
   "cell_type": "code",
   "execution_count": 31,
   "id": "305cdb24",
   "metadata": {},
   "outputs": [
    {
     "name": "stdout",
     "output_type": "stream",
     "text": [
      "(4.5, 'ramhi')\n"
     ]
    }
   ],
   "source": [
    "i1=2\n",
    "f1=2.5\n",
    "\n",
    "\n",
    "out_list2=pos_key(i1,f1,s='ram',st='hi')\n",
    "print(out_list2)"
   ]
  },
  {
   "cell_type": "markdown",
   "id": "64f8af6a",
   "metadata": {},
   "source": [
    "Next class\n",
    "variable length positional argument and variable length keyword argument"
   ]
  },
  {
   "cell_type": "code",
   "execution_count": null,
   "id": "8dfd4a1a",
   "metadata": {},
   "outputs": [],
   "source": []
  }
 ],
 "metadata": {
  "kernelspec": {
   "display_name": "Python 3 (ipykernel)",
   "language": "python",
   "name": "python3"
  },
  "language_info": {
   "codemirror_mode": {
    "name": "ipython",
    "version": 3
   },
   "file_extension": ".py",
   "mimetype": "text/x-python",
   "name": "python",
   "nbconvert_exporter": "python",
   "pygments_lexer": "ipython3",
   "version": "3.11.5"
  }
 },
 "nbformat": 4,
 "nbformat_minor": 5
}
