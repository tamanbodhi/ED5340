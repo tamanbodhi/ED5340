{
 "cells": [
  {
   "cell_type": "code",
   "execution_count": 49,
   "id": "38b7ac49",
   "metadata": {},
   "outputs": [],
   "source": [
    "'''remove function 20 to  30\n",
    "Sir discussed a bug in the remove function. \n",
    "The remove() method removes the first occurrence of the element with the specified value.'''\n",
    "l1=[1,2,3,4,5,6,7,8]\n",
    "for i in l1:\n",
    "    if i>2 and i<7:\n",
    "       l1.remove(i)\n"
   ]
  },
  {
   "cell_type": "code",
   "execution_count": 11,
   "id": "bb4f9389",
   "metadata": {},
   "outputs": [
    {
     "name": "stdout",
     "output_type": "stream",
     "text": [
      "[1, 2, 4, 6, 7, 8]\n"
     ]
    }
   ],
   "source": [
    "print(l1) # 4 is not removed coz 4 is moved to the previous index and no more checked"
   ]
  },
  {
   "cell_type": "markdown",
   "id": "7e96c908",
   "metadata": {},
   "source": [
    "'''List of Lists'''\n",
    "List of list\n",
    "\n",
    "list embedding\n",
    "list unpacking"
   ]
  },
  {
   "cell_type": "code",
   "execution_count": 20,
   "id": "d10bc727",
   "metadata": {},
   "outputs": [
    {
     "name": "stdout",
     "output_type": "stream",
     "text": [
      "12\n",
      "[1, 2, 3, 4, 5]\n",
      "[[1, 2, 3, 4, 5], [11, 12, 13, 14, 15]]\n"
     ]
    }
   ],
   "source": [
    "a=[1,2,3,4,5]\n",
    "b=[11,12,13,14,15]\n",
    "c=[a,b]\n",
    "print(c[1][1])\n",
    "print(c[0])\n",
    "print(c)"
   ]
  },
  {
   "cell_type": "code",
   "execution_count": 26,
   "id": "5b44c359",
   "metadata": {},
   "outputs": [
    {
     "name": "stdout",
     "output_type": "stream",
     "text": [
      "embedded list [10, 11, [1, 2, 3, 4], 13] <class 'list'>\n",
      "1 2 3 4\n"
     ]
    },
    {
     "data": {
      "text/plain": [
       "'list unpacking'"
      ]
     },
     "execution_count": 26,
     "metadata": {},
     "output_type": "execute_result"
    }
   ],
   "source": [
    "'''list embedding'''\n",
    "x=[1,2,3,4]\n",
    "y=[10,11,x,13]\n",
    "print('embedded list',y,type(y))\n",
    "print(*x)\n",
    "\n"
   ]
  },
  {
   "cell_type": "markdown",
   "id": "750581b6",
   "metadata": {},
   "source": [
    "list unpacking\n"
   ]
  },
  {
   "cell_type": "markdown",
   "id": "8a7f5f1b",
   "metadata": {},
   "source": [
    "List comprehension\n",
    "create list of integers from 1 to 10 usimg list comprehension\n",
    "Convert double 4 loop to list compre sir says\n"
   ]
  },
  {
   "cell_type": "code",
   "execution_count": 51,
   "id": "3ab468a6",
   "metadata": {},
   "outputs": [
    {
     "name": "stdout",
     "output_type": "stream",
     "text": [
      "[1, 4, 9, 16]\n"
     ]
    }
   ],
   "source": [
    "s1=[1,2,3,4]\n",
    "s2=[var**2 for var in s1]\n",
    "print(s2)"
   ]
  },
  {
   "cell_type": "code",
   "execution_count": 50,
   "id": "d3ee00ca",
   "metadata": {},
   "outputs": [
    {
     "name": "stdout",
     "output_type": "stream",
     "text": [
      "['1', '2', '3', '4', '5', '6', '7', '8', '9']\n"
     ]
    }
   ],
   "source": [
    "s1=\"123456789\"\n",
    "list1=[]\n",
    "\n",
    "list1=[var for var in s1]\n",
    "print(list1)\n",
    "\n"
   ]
  },
  {
   "cell_type": "code",
   "execution_count": 31,
   "id": "ce075a41",
   "metadata": {},
   "outputs": [
    {
     "name": "stdout",
     "output_type": "stream",
     "text": [
      "[1, 2, 3, 4, 5, 6, 7, 8, 9]\n"
     ]
    }
   ],
   "source": [
    "list2=[1,2,3,4,5,6,7,8,9]\n",
    "print(list2)"
   ]
  },
  {
   "cell_type": "code",
   "execution_count": 44,
   "id": "a7f96009",
   "metadata": {},
   "outputs": [
    {
     "name": "stdout",
     "output_type": "stream",
     "text": [
      "[[1, 2, 3, 4, 5], [11, 12, 13, 14, 15]]\n"
     ]
    }
   ],
   "source": [
    "'''list of list using list compre'''\n",
    "arr=[]\n",
    "odd_list=[[num for num in ele] for ele in c]\n",
    "print(odd_list)"
   ]
  },
  {
   "cell_type": "markdown",
   "id": "731b5d54",
   "metadata": {},
   "source": [
    "ob:\n",
    "    "
   ]
  },
  {
   "cell_type": "code",
   "execution_count": 45,
   "id": "00bda7a5",
   "metadata": {},
   "outputs": [
    {
     "name": "stdout",
     "output_type": "stream",
     "text": [
      "[1, 2, 3, 4]\n",
      "[5, 6, 7, 8]\n",
      "[9, 10, 11, 12]\n"
     ]
    }
   ],
   "source": [
    "arr=[[1,2,3,4],[5,6,7,8],[9,10,11,12]]\n",
    "for ele in arr:\n",
    "    print(ele)\n"
   ]
  },
  {
   "cell_type": "code",
   "execution_count": 47,
   "id": "5ad31cab",
   "metadata": {},
   "outputs": [
    {
     "name": "stdout",
     "output_type": "stream",
     "text": [
      "1\n",
      "2\n",
      "3\n",
      "4\n",
      "5\n",
      "6\n",
      "7\n",
      "8\n",
      "9\n",
      "10\n",
      "11\n",
      "12\n"
     ]
    }
   ],
   "source": [
    "for ele in arr:\n",
    "    for i in ele:\n",
    "        print(i)"
   ]
  },
  {
   "cell_type": "code",
   "execution_count": null,
   "id": "5412bde8",
   "metadata": {},
   "outputs": [],
   "source": []
  }
 ],
 "metadata": {
  "kernelspec": {
   "display_name": "Python 3 (ipykernel)",
   "language": "python",
   "name": "python3"
  },
  "language_info": {
   "codemirror_mode": {
    "name": "ipython",
    "version": 3
   },
   "file_extension": ".py",
   "mimetype": "text/x-python",
   "name": "python",
   "nbconvert_exporter": "python",
   "pygments_lexer": "ipython3",
   "version": "3.11.5"
  }
 },
 "nbformat": 4,
 "nbformat_minor": 5
}
